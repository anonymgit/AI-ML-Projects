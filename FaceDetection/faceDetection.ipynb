{
 "cells": [
  {
   "cell_type": "markdown",
   "id": "652ae6fc",
   "metadata": {},
   "source": [
    "# Haar cascade FrontalFace Algorithm"
   ]
  },
  {
   "cell_type": "code",
   "execution_count": null,
   "id": "4ef8b01d",
   "metadata": {},
   "outputs": [],
   "source": [
    "#it is based on the haar wavelet technique to analyze\n",
    "#pixels in the image into squares by function.\n"
   ]
  },
  {
   "cell_type": "code",
   "execution_count": null,
   "id": "01ad9ee0",
   "metadata": {},
   "outputs": [],
   "source": [
    "#This uses machine learning techniques to get a high\n",
    "#degree of accuracy from what is called \"training data\""
   ]
  },
  {
   "cell_type": "code",
   "execution_count": null,
   "id": "e67946fd",
   "metadata": {},
   "outputs": [],
   "source": [
    "#This uses \"internal image\" concepts to compute the \"features\" detected."
   ]
  },
  {
   "cell_type": "code",
   "execution_count": null,
   "id": "ee4c6071",
   "metadata": {},
   "outputs": [],
   "source": [
    "#Haar cascades use the Adaboost learning algorithm which selects a small\n",
    "#number of important features from a large set to give an effcient result of \n",
    "#classifier"
   ]
  },
  {
   "cell_type": "code",
   "execution_count": 2,
   "id": "e2edb201",
   "metadata": {},
   "outputs": [],
   "source": [
    "#workflow\n",
    "#---->step1(loading haar Cascade Face Algorithm)\n",
    "#---->step2(Initializing camera)\n",
    "#---->step3(Reading Frame From Camera)\n",
    "#---->step4(Converting Color image into GrayScale image)\n",
    "#---->step5(obtaining Face Coordinates by passing Algorithm)\n",
    "#---->step6(Drawing Rectangle on the Face Coordinates)\n",
    "#---->Display the output Frame\n"
   ]
  },
  {
   "cell_type": "code",
   "execution_count": 4,
   "id": "affdfe46",
   "metadata": {},
   "outputs": [],
   "source": [
    "import cv2 as cv\n",
    "\n",
    "alg=\"haarcascade_frontalface_default.xml\"\n",
    "haar_cascade=cv.CascadeClassifier(alg)\n",
    "cam=cv.VideoCapture(0)\n",
    "\n",
    "while True:\n",
    "    _,img=cam.read() #read the frame from the camera\n",
    "    grayImg=cv.cvtColor(img,cv.COLOR_BGR2GRAY) #converting color to gray\n",
    "    face=haar_cascade.detectMultiScale(grayImg,1.3,4) #get coordinates of face\n",
    "    for (x,y,w,h) in face: #segregating x,y,w,h\n",
    "        cv.rectangle(img,(x,y),(x+w,y+h),(0,255,0),2)\n",
    "    cv.imshow(\"Face Detection\",img)\n",
    "    key=cv.waitKey(10)\n",
    "    if key==27:\n",
    "        break\n",
    "cam.release()\n",
    "cv.destroyAllWindows()"
   ]
  }
 ],
 "metadata": {
  "kernelspec": {
   "display_name": "Python 3 (ipykernel)",
   "language": "python",
   "name": "python3"
  },
  "language_info": {
   "codemirror_mode": {
    "name": "ipython",
    "version": 3
   },
   "file_extension": ".py",
   "mimetype": "text/x-python",
   "name": "python",
   "nbconvert_exporter": "python",
   "pygments_lexer": "ipython3",
   "version": "3.10.7"
  }
 },
 "nbformat": 4,
 "nbformat_minor": 5
}
