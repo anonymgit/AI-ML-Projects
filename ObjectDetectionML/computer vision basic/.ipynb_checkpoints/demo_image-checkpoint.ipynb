{
 "cells": [
  {
   "cell_type": "markdown",
   "id": "e7fea395",
   "metadata": {},
   "source": [
    "# Basic of Image Reading Writing"
   ]
  },
  {
   "cell_type": "code",
   "execution_count": 10,
   "id": "6770c5f6",
   "metadata": {},
   "outputs": [],
   "source": [
    "import cv2 as cv\n",
    "import sys"
   ]
  },
  {
   "cell_type": "code",
   "execution_count": 20,
   "id": "96fef5b6",
   "metadata": {},
   "outputs": [],
   "source": [
    "img=cv.imread('D:\\ML\\Assets\\AryanProfile.jpg')\n",
    "#write a condition if image is loaded or not\n",
    "if img is None:\n",
    "    print(\"could not read the image\")\n",
    "cv.imshow('image',img)\n",
    "k=cv.waitKey(0)\n",
    "if k==ord(\"s\"):\n",
    "    cv.imwrite(\"AryanPic.png\",img)\n",
    "cv.destroyAllWindows()"
   ]
  },
  {
   "cell_type": "markdown",
   "id": "f6fa5429",
   "metadata": {},
   "source": [
    "# resizing the Image"
   ]
  },
  {
   "cell_type": "code",
   "execution_count": 22,
   "id": "8e18d612",
   "metadata": {},
   "outputs": [],
   "source": [
    "#use resize method to resize the image ,it take img var and height and width \n",
    "img = cv.resize(img, (600, 600))\n",
    "cv.imshow('image',img)\n",
    "k=cv.waitKey(0)\n",
    "if k==ord(\"s\"):\n",
    "    cv.imwrite(\"AryanPic.png\",img)\n",
    "cv.destroyAllWindows()"
   ]
  }
 ],
 "metadata": {
  "kernelspec": {
   "display_name": "Python 3 (ipykernel)",
   "language": "python",
   "name": "python3"
  },
  "language_info": {
   "codemirror_mode": {
    "name": "ipython",
    "version": 3
   },
   "file_extension": ".py",
   "mimetype": "text/x-python",
   "name": "python",
   "nbconvert_exporter": "python",
   "pygments_lexer": "ipython3",
   "version": "3.10.7"
  }
 },
 "nbformat": 4,
 "nbformat_minor": 5
}
