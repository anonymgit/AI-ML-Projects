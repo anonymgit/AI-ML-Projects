{
 "cells": [
  {
   "cell_type": "markdown",
   "id": "e7fea395",
   "metadata": {},
   "source": [
    "# Basic of Image Reading Writing"
   ]
  },
  {
   "cell_type": "code",
   "execution_count": 3,
   "id": "6770c5f6",
   "metadata": {},
   "outputs": [],
   "source": [
    "import cv2 as cv\n",
    "import sys"
   ]
  },
  {
   "cell_type": "code",
   "execution_count": 4,
   "id": "96fef5b6",
   "metadata": {},
   "outputs": [],
   "source": [
    "img=cv.imread('D:\\ML\\Assets\\AryanProfile.jpg')\n",
    "#write a condition if image is loaded or not\n",
    "if img is None:\n",
    "    print(\"could not read the image\")\n",
    "cv.imshow('image',img)\n",
    "k=cv.waitKey(0)\n",
    "if k==ord(\"s\"):\n",
    "    cv.imwrite(\"AryanPic.png\",img)\n",
    "cv.destroyAllWindows()"
   ]
  },
  {
   "cell_type": "markdown",
   "id": "f6fa5429",
   "metadata": {},
   "source": [
    "# resizing the Image"
   ]
  },
  {
   "cell_type": "code",
   "execution_count": 5,
   "id": "8e18d612",
   "metadata": {},
   "outputs": [],
   "source": [
    "#use resize method to resize the image ,it take img var and height and width \n",
    "img = cv.resize(img, (600, 600))\n",
    "cv.imshow('image',img)\n",
    "k=cv.waitKey(0)\n",
    "if k==ord(\"s\"):\n",
    "    cv.imwrite(\"AryanPic.png\",img)\n",
    "cv.destroyAllWindows()"
   ]
  },
  {
   "cell_type": "markdown",
   "id": "d5302455",
   "metadata": {},
   "source": [
    "# Accessing and Modifying Pixel values"
   ]
  },
  {
   "cell_type": "code",
   "execution_count": 7,
   "id": "3e2c0fb8",
   "metadata": {},
   "outputs": [
    {
     "name": "stdout",
     "output_type": "stream",
     "text": [
      "[255 255 255]\n",
      "255\n"
     ]
    }
   ],
   "source": [
    "px=img[100,100]\n",
    "print(px)\n",
    "\n",
    "# accessing only blue pixel\n",
    "blue = img[100,100,0]\n",
    "print( blue )\n",
    "\n"
   ]
  },
  {
   "cell_type": "markdown",
   "id": "9dc0590e",
   "metadata": {},
   "source": [
    "# Accessing Image properties"
   ]
  },
  {
   "cell_type": "code",
   "execution_count": 8,
   "id": "342261bb",
   "metadata": {},
   "outputs": [
    {
     "name": "stdout",
     "output_type": "stream",
     "text": [
      "(600, 600, 3)\n"
     ]
    }
   ],
   "source": [
    "#it will show the resolution of the image\n",
    "print(img.shape)"
   ]
  },
  {
   "cell_type": "code",
   "execution_count": 9,
   "id": "5371217a",
   "metadata": {},
   "outputs": [
    {
     "name": "stdout",
     "output_type": "stream",
     "text": [
      "1080000\n"
     ]
    }
   ],
   "source": [
    "#it shows the size of the image in kb\n",
    "print(img.size)"
   ]
  },
  {
   "cell_type": "code",
   "execution_count": 10,
   "id": "ea0716d2",
   "metadata": {},
   "outputs": [
    {
     "name": "stdout",
     "output_type": "stream",
     "text": [
      "uint8\n"
     ]
    }
   ],
   "source": [
    "#shows the data type of image\n",
    "print(img.dtype)"
   ]
  },
  {
   "cell_type": "code",
   "execution_count": 11,
   "id": "c5cb67e4",
   "metadata": {},
   "outputs": [],
   "source": [
    "# and you can do many more things with images as your requirements\n",
    "#https://docs.opencv.org/4.x/d3/df2/tutorial_py_basic_ops.html visit here to look methods"
   ]
  },
  {
   "cell_type": "markdown",
   "id": "d00f4076",
   "metadata": {},
   "source": [
    "# Image Blending"
   ]
  },
  {
   "cell_type": "code",
   "execution_count": 14,
   "id": "3363fa7f",
   "metadata": {},
   "outputs": [],
   "source": [
    "img1 = cv.imread('D:\\ML\\Assets\\img1.jfif')\n",
    "img1 = cv.resize(img1, (600, 600))\n",
    "img2 = cv.imread(\"D:\\ML\\Assets\\img2.jpg\")\n",
    "img2 = cv.resize(img2, (600, 600))\n",
    "dst = cv.addWeighted(img1,0.7,img2,0.3,0)\n",
    "cv.imshow('dst',dst)\n",
    "cv.waitKey(0)\n",
    "cv.destroyAllWindows()"
   ]
  }
 ],
 "metadata": {
  "kernelspec": {
   "display_name": "Python 3 (ipykernel)",
   "language": "python",
   "name": "python3"
  },
  "language_info": {
   "codemirror_mode": {
    "name": "ipython",
    "version": 3
   },
   "file_extension": ".py",
   "mimetype": "text/x-python",
   "name": "python",
   "nbconvert_exporter": "python",
   "pygments_lexer": "ipython3",
   "version": "3.10.7"
  }
 },
 "nbformat": 4,
 "nbformat_minor": 5
}
