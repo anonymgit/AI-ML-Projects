{
 "cells": [
  {
   "cell_type": "code",
   "execution_count": 2,
   "id": "95b0ce46",
   "metadata": {},
   "outputs": [],
   "source": [
    "import numpy as np \n",
    "import cv2 as cv"
   ]
  },
  {
   "cell_type": "code",
   "execution_count": 5,
   "id": "be67c249",
   "metadata": {},
   "outputs": [],
   "source": [
    "cap=cv.VideoCapture(0)\n",
    "if not cap.isOpened():\n",
    "    print(\"cannot open camera\")\n",
    "    exit()\n",
    "while True:\n",
    "    #captured frame by frame\n",
    "    ret,frame=cap.read()\n",
    "    \n",
    "    #if frame is read correctly ret is True\n",
    "    if not ret:\n",
    "        print(\"can't receive frame (stream end?). Exiting...\")\n",
    "        break\n",
    "    #our operations on the frame come here\n",
    "    gray=cv.cvtColor(frame,cv.COLOR_BGR2GRAY)\n",
    "    #Display the resulting frame\n",
    "    cv.imshow('frame',gray)\n",
    "    if cv.waitKey(1)==ord('q'):\n",
    "        break\n",
    "#when everything done,release the capture\n",
    "cap.release()\n",
    "cv.destroyAllWindows()"
   ]
  },
  {
   "cell_type": "markdown",
   "id": "289e22d1",
   "metadata": {},
   "source": [
    "# Play video from File"
   ]
  },
  {
   "cell_type": "code",
   "execution_count": 10,
   "id": "38de3b52",
   "metadata": {},
   "outputs": [],
   "source": [
    "cap=cv.VideoCapture(\"D:\\movie & webseries\\Badshah - Sajna - Say Yes To The Dress (Official Video) - Payal Dev.mp4)\")\n",
    "while cap.isOpened():\n",
    "    ret,frame=cap.read()\n",
    "    \n",
    "    #if frame is read correctly ret is true\n",
    "    if not ret:\n",
    "        print(\"can't receive frame\")\n",
    "        break\n",
    "    gray=cv.cvtColor(frame,cv.BGR2GRAY)\n",
    "    \n",
    "    cv.imshow('frame',gray)\n",
    "    if cv.waitKey(1)==ord('q'):\n",
    "        break\n",
    "cap.release()\n",
    "cv.destroyAllWindows()"
   ]
  },
  {
   "cell_type": "markdown",
   "id": "e3ee8a1b",
   "metadata": {},
   "source": [
    "# saving a video"
   ]
  },
  {
   "cell_type": "code",
   "execution_count": 15,
   "id": "9c23c0db",
   "metadata": {},
   "outputs": [],
   "source": [
    "cap = cv.VideoCapture(0)\n",
    "# Define the codec and create VideoWriter object\n",
    "fourcc = cv.VideoWriter_fourcc(*'XVID')\n",
    "out = cv.VideoWriter('output.avi', fourcc, 20.0, (640,  480))\n",
    "while cap.isOpened():\n",
    "    ret, frame = cap.read()\n",
    "    if not ret:\n",
    "        print(\"Can't receive frame (stream end?). Exiting ...\")\n",
    "        break\n",
    "    frame = cv.extractChannel(frame, 0)\n",
    "    # write the flipped frame\n",
    "    out.write(frame)\n",
    "    cv.imshow('frame', frame)\n",
    "    if cv.waitKey(1) == ord('q'):\n",
    "        break\n",
    "# Release everything if job is finished\n",
    "cap.release()\n",
    "out.release()\n",
    "cv.destroyAllWindows()"
   ]
  },
  {
   "cell_type": "code",
   "execution_count": null,
   "id": "8e40a021",
   "metadata": {},
   "outputs": [],
   "source": []
  }
 ],
 "metadata": {
  "kernelspec": {
   "display_name": "Python 3 (ipykernel)",
   "language": "python",
   "name": "python3"
  },
  "language_info": {
   "codemirror_mode": {
    "name": "ipython",
    "version": 3
   },
   "file_extension": ".py",
   "mimetype": "text/x-python",
   "name": "python",
   "nbconvert_exporter": "python",
   "pygments_lexer": "ipython3",
   "version": "3.10.7"
  }
 },
 "nbformat": 4,
 "nbformat_minor": 5
}
